{
  "nbformat": 4,
  "nbformat_minor": 0,
  "metadata": {
    "colab": {
      "name": "MINI_RAIL_GURU.ipynb",
      "provenance": [],
      "private_outputs": true,
      "collapsed_sections": [],
      "toc_visible": true,
      "include_colab_link": true
    },
    "kernelspec": {
      "name": "python3",
      "display_name": "Python 3"
    },
    "accelerator": "GPU"
  },
  "cells": [
    {
      "cell_type": "markdown",
      "metadata": {
        "id": "view-in-github",
        "colab_type": "text"
      },
      "source": [
        "<a href=\"https://colab.research.google.com/github/pskr0/mini/blob/master/MINI_RAIL_GURU.ipynb\" target=\"_parent\"><img src=\"https://colab.research.google.com/assets/colab-badge.svg\" alt=\"Open In Colab\"/></a>"
      ]
    },
    {
      "cell_type": "markdown",
      "metadata": {
        "id": "9vmL1QwHudw6",
        "colab_type": "text"
      },
      "source": [
        "MINI RAIL GURU\n"
      ]
    },
    {
      "cell_type": "code",
      "metadata": {
        "id": "Mp8-RXJ6Ky43",
        "colab_type": "code",
        "colab": {}
      },
      "source": [
        "from google.colab import drive\n",
        "drive.mount('/content/drive')"
      ],
      "execution_count": 0,
      "outputs": []
    },
    {
      "cell_type": "code",
      "metadata": {
        "id": "mWvutTq4AtvA",
        "colab_type": "code",
        "colab": {}
      },
      "source": [
        "pip install pyramid-arima"
      ],
      "execution_count": 0,
      "outputs": []
    },
    {
      "cell_type": "code",
      "metadata": {
        "colab_type": "code",
        "id": "IYJgpqIwughq",
        "colab": {}
      },
      "source": [
        "import pandas as pd\n",
        "import numpy as np\n",
        "from pyramid import auto_arima"
      ],
      "execution_count": 0,
      "outputs": []
    },
    {
      "cell_type": "code",
      "metadata": {
        "id": "zUBgldlNvNfn",
        "colab_type": "code",
        "colab": {}
      },
      "source": [
        "df=pd.read_csv(\"/content/drive/My Drive/ML DATA/train_sample3.csv\")\n",
        "df['Month']=pd.to_datetime(df['Month'])\n",
        "df.index=df.Month\n",
        "df=df.drop('Month',axis=1)\n",
        "df.head()"
      ],
      "execution_count": 0,
      "outputs": []
    },
    {
      "cell_type": "code",
      "metadata": {
        "id": "hrJY9C8Zy64w",
        "colab_type": "code",
        "colab": {}
      },
      "source": [
        "import matplotlib.pyplot as plt\n",
        "plt.plot(df)\n",
        "plt.xlabel('Month')#Months\n",
        "plt.ylabel('w')#waiting list\n",
        "plt.plot()\n",
        "# Data of two years 2018-2019 && 2019-2020 ploted in graph."
      ],
      "execution_count": 0,
      "outputs": []
    },
    {
      "cell_type": "code",
      "metadata": {
        "id": "cxJyT4ZxziAy",
        "colab_type": "code",
        "colab": {}
      },
      "source": [
        "#divide the sample data into two parts\n",
        "# Training and Testing Part\n",
        "train=df[:int(0.8*(len(df)))]\n",
        "test=df[int(0.8*(len(df))):]\n",
        "print(train.shape)\n",
        "print(test.shape)"
      ],
      "execution_count": 0,
      "outputs": []
    },
    {
      "cell_type": "code",
      "metadata": {
        "id": "0NqxVStV0L8T",
        "colab_type": "code",
        "colab": {}
      },
      "source": [
        "model = auto_arima(train,trace=True,start_p=0,\n",
        "                   start_q=0,start_P=0,start_Q=0,\n",
        "                   max_p=10,max_q=10,max_P=10,\n",
        "                   max_Q=10,seasonal=True,\n",
        "                   stepwise=False,suppress_warnings=True,\n",
        "                   D=1,max_D=10,error_action='ignore',\n",
        "                   approximation = False)\n",
        "#fitting model\n",
        "model.fit(train)"
      ],
      "execution_count": 0,
      "outputs": []
    },
    {
      "cell_type": "code",
      "metadata": {
        "id": "znFUoS5_49LC",
        "colab_type": "code",
        "colab": {}
      },
      "source": [
        "#predicting values and evaluating model\n",
        "from statsmodels.tsa.arima_model import ARIMA\n",
        "model = ARIMA(df.values, order=(9,1,1))\n",
        "model_fit= model.fit(disp=0)\n",
        "print(model_fit.summary())\n",
        "#y_pred = model.predict(n_periods=len(valid))\n",
        "#from sklearn.metrics import r2_score\n",
        "#acc = r2_score(valid.values, y_pred)\n",
        "#print(acc)"
      ],
      "execution_count": 0,
      "outputs": []
    },
    {
      "cell_type": "code",
      "metadata": {
        "id": "IEQ3y6wMnP1c",
        "colab_type": "code",
        "colab": {}
      },
      "source": [
        "# one-step out-of sample forecast\n",
        "forecast = model_fit.forecast()[0]"
      ],
      "execution_count": 0,
      "outputs": []
    },
    {
      "cell_type": "code",
      "metadata": {
        "id": "NMN5fYvqntum",
        "colab_type": "code",
        "colab": {}
      },
      "source": [
        "# invert the differenced forecast to something usable\n",
        "forecast = inverse_difference(X, forecast, days_in_year)"
      ],
      "execution_count": 0,
      "outputs": []
    }
  ]
}