{
  "nbformat": 4,
  "nbformat_minor": 0,
  "metadata": {
    "colab": {
      "name": "Sample code",
      "provenance": [],
      "authorship_tag": "ABX9TyNqs1HHh4uICY2TcGxFHEXw",
      "include_colab_link": true
    },
    "kernelspec": {
      "name": "python3",
      "display_name": "Python 3"
    }
  },
  "cells": [
    {
      "cell_type": "markdown",
      "metadata": {
        "id": "view-in-github",
        "colab_type": "text"
      },
      "source": [
        "<a href=\"https://colab.research.google.com/github/pskr0/mini/blob/master/Sample_code.ipynb\" target=\"_parent\"><img src=\"https://colab.research.google.com/assets/colab-badge.svg\" alt=\"Open In Colab\"/></a>"
      ]
    },
    {
      "cell_type": "code",
      "metadata": {
        "id": "aFFYhGL4pHlX",
        "colab_type": "code",
        "colab": {
          "base_uri": "https://localhost:8080/",
          "height": 289
        },
        "outputId": "1cc9fb80-f331-4670-8f9c-2ba95afb1c79"
      },
      "source": [
        "pip install pyramid-arima"
      ],
      "execution_count": 2,
      "outputs": [
        {
          "output_type": "stream",
          "text": [
            "Collecting pyramid-arima\n",
            "\u001b[?25l  Downloading https://files.pythonhosted.org/packages/5c/84/57422f2a6ade3161c586545e38b518ba1b7ab30ee4a4acc29110c0aba2bc/pyramid_arima-0.9.0-cp36-cp36m-manylinux1_x86_64.whl (597kB)\n",
            "\r\u001b[K     |▌                               | 10kB 18.0MB/s eta 0:00:01\r\u001b[K     |█                               | 20kB 1.8MB/s eta 0:00:01\r\u001b[K     |█▋                              | 30kB 2.6MB/s eta 0:00:01\r\u001b[K     |██▏                             | 40kB 1.7MB/s eta 0:00:01\r\u001b[K     |██▊                             | 51kB 2.1MB/s eta 0:00:01\r\u001b[K     |███▎                            | 61kB 2.6MB/s eta 0:00:01\r\u001b[K     |███▉                            | 71kB 3.0MB/s eta 0:00:01\r\u001b[K     |████▍                           | 81kB 3.4MB/s eta 0:00:01\r\u001b[K     |█████                           | 92kB 3.7MB/s eta 0:00:01\r\u001b[K     |█████▌                          | 102kB 2.9MB/s eta 0:00:01\r\u001b[K     |██████                          | 112kB 2.9MB/s eta 0:00:01\r\u001b[K     |██████▋                         | 122kB 2.9MB/s eta 0:00:01\r\u001b[K     |███████▏                        | 133kB 2.9MB/s eta 0:00:01\r\u001b[K     |███████▊                        | 143kB 2.9MB/s eta 0:00:01\r\u001b[K     |████████▏                       | 153kB 2.9MB/s eta 0:00:01\r\u001b[K     |████████▊                       | 163kB 2.9MB/s eta 0:00:01\r\u001b[K     |█████████▎                      | 174kB 2.9MB/s eta 0:00:01\r\u001b[K     |█████████▉                      | 184kB 2.9MB/s eta 0:00:01\r\u001b[K     |██████████▍                     | 194kB 2.9MB/s eta 0:00:01\r\u001b[K     |███████████                     | 204kB 2.9MB/s eta 0:00:01\r\u001b[K     |███████████▌                    | 215kB 2.9MB/s eta 0:00:01\r\u001b[K     |████████████                    | 225kB 2.9MB/s eta 0:00:01\r\u001b[K     |████████████▋                   | 235kB 2.9MB/s eta 0:00:01\r\u001b[K     |█████████████▏                  | 245kB 2.9MB/s eta 0:00:01\r\u001b[K     |█████████████▊                  | 256kB 2.9MB/s eta 0:00:01\r\u001b[K     |██████████████▎                 | 266kB 2.9MB/s eta 0:00:01\r\u001b[K     |██████████████▉                 | 276kB 2.9MB/s eta 0:00:01\r\u001b[K     |███████████████▍                | 286kB 2.9MB/s eta 0:00:01\r\u001b[K     |████████████████                | 296kB 2.9MB/s eta 0:00:01\r\u001b[K     |████████████████▍               | 307kB 2.9MB/s eta 0:00:01\r\u001b[K     |█████████████████               | 317kB 2.9MB/s eta 0:00:01\r\u001b[K     |█████████████████▌              | 327kB 2.9MB/s eta 0:00:01\r\u001b[K     |██████████████████              | 337kB 2.9MB/s eta 0:00:01\r\u001b[K     |██████████████████▋             | 348kB 2.9MB/s eta 0:00:01\r\u001b[K     |███████████████████▏            | 358kB 2.9MB/s eta 0:00:01\r\u001b[K     |███████████████████▊            | 368kB 2.9MB/s eta 0:00:01\r\u001b[K     |████████████████████▎           | 378kB 2.9MB/s eta 0:00:01\r\u001b[K     |████████████████████▉           | 389kB 2.9MB/s eta 0:00:01\r\u001b[K     |█████████████████████▍          | 399kB 2.9MB/s eta 0:00:01\r\u001b[K     |██████████████████████          | 409kB 2.9MB/s eta 0:00:01\r\u001b[K     |██████████████████████▌         | 419kB 2.9MB/s eta 0:00:01\r\u001b[K     |███████████████████████         | 430kB 2.9MB/s eta 0:00:01\r\u001b[K     |███████████████████████▋        | 440kB 2.9MB/s eta 0:00:01\r\u001b[K     |████████████████████████▏       | 450kB 2.9MB/s eta 0:00:01\r\u001b[K     |████████████████████████▋       | 460kB 2.9MB/s eta 0:00:01\r\u001b[K     |█████████████████████████▏      | 471kB 2.9MB/s eta 0:00:01\r\u001b[K     |█████████████████████████▊      | 481kB 2.9MB/s eta 0:00:01\r\u001b[K     |██████████████████████████▎     | 491kB 2.9MB/s eta 0:00:01\r\u001b[K     |██████████████████████████▉     | 501kB 2.9MB/s eta 0:00:01\r\u001b[K     |███████████████████████████▍    | 512kB 2.9MB/s eta 0:00:01\r\u001b[K     |████████████████████████████    | 522kB 2.9MB/s eta 0:00:01\r\u001b[K     |████████████████████████████▌   | 532kB 2.9MB/s eta 0:00:01\r\u001b[K     |█████████████████████████████   | 542kB 2.9MB/s eta 0:00:01\r\u001b[K     |█████████████████████████████▋  | 552kB 2.9MB/s eta 0:00:01\r\u001b[K     |██████████████████████████████▏ | 563kB 2.9MB/s eta 0:00:01\r\u001b[K     |██████████████████████████████▊ | 573kB 2.9MB/s eta 0:00:01\r\u001b[K     |███████████████████████████████▎| 583kB 2.9MB/s eta 0:00:01\r\u001b[K     |███████████████████████████████▉| 593kB 2.9MB/s eta 0:00:01\r\u001b[K     |████████████████████████████████| 604kB 2.9MB/s \n",
            "\u001b[?25hRequirement already satisfied: scipy>=0.9 in /usr/local/lib/python3.6/dist-packages (from pyramid-arima) (1.4.1)\n",
            "Requirement already satisfied: statsmodels>=0.9.0 in /usr/local/lib/python3.6/dist-packages (from pyramid-arima) (0.10.2)\n",
            "Requirement already satisfied: pandas>=0.19 in /usr/local/lib/python3.6/dist-packages (from pyramid-arima) (0.25.3)\n",
            "Requirement already satisfied: numpy>=1.10 in /usr/local/lib/python3.6/dist-packages (from pyramid-arima) (1.17.5)\n",
            "Requirement already satisfied: Cython>=0.23 in /usr/local/lib/python3.6/dist-packages (from pyramid-arima) (0.29.15)\n",
            "Requirement already satisfied: scikit-learn>=0.17 in /usr/local/lib/python3.6/dist-packages (from pyramid-arima) (0.22.1)\n",
            "Requirement already satisfied: patsy>=0.4.0 in /usr/local/lib/python3.6/dist-packages (from statsmodels>=0.9.0->pyramid-arima) (0.5.1)\n",
            "Requirement already satisfied: python-dateutil>=2.6.1 in /usr/local/lib/python3.6/dist-packages (from pandas>=0.19->pyramid-arima) (2.6.1)\n",
            "Requirement already satisfied: pytz>=2017.2 in /usr/local/lib/python3.6/dist-packages (from pandas>=0.19->pyramid-arima) (2018.9)\n",
            "Requirement already satisfied: joblib>=0.11 in /usr/local/lib/python3.6/dist-packages (from scikit-learn>=0.17->pyramid-arima) (0.14.1)\n",
            "Requirement already satisfied: six in /usr/local/lib/python3.6/dist-packages (from patsy>=0.4.0->statsmodels>=0.9.0->pyramid-arima) (1.12.0)\n",
            "Installing collected packages: pyramid-arima\n",
            "Successfully installed pyramid-arima-0.9.0\n"
          ],
          "name": "stdout"
        }
      ]
    },
    {
      "cell_type": "code",
      "metadata": {
        "id": "E6p_xCezpDwL",
        "colab_type": "code",
        "colab": {
          "base_uri": "https://localhost:8080/",
          "height": 122
        },
        "outputId": "4fa30d46-8be2-41db-bab1-26e1a601c287"
      },
      "source": [
        "from google.colab import drive\n",
        "drive.mount('/content/drive')"
      ],
      "execution_count": 3,
      "outputs": [
        {
          "output_type": "stream",
          "text": [
            "Go to this URL in a browser: https://accounts.google.com/o/oauth2/auth?client_id=947318989803-6bn6qk8qdgf4n4g3pfee6491hc0brc4i.apps.googleusercontent.com&redirect_uri=urn%3aietf%3awg%3aoauth%3a2.0%3aoob&response_type=code&scope=email%20https%3a%2f%2fwww.googleapis.com%2fauth%2fdocs.test%20https%3a%2f%2fwww.googleapis.com%2fauth%2fdrive%20https%3a%2f%2fwww.googleapis.com%2fauth%2fdrive.photos.readonly%20https%3a%2f%2fwww.googleapis.com%2fauth%2fpeopleapi.readonly\n",
            "\n",
            "Enter your authorization code:\n",
            "··········\n",
            "Mounted at /content/drive\n"
          ],
          "name": "stdout"
        }
      ]
    },
    {
      "cell_type": "code",
      "metadata": {
        "id": "UabzvXXoot6c",
        "colab_type": "code",
        "colab": {
          "base_uri": "https://localhost:8080/",
          "height": 374
        },
        "outputId": "7791a9cf-4eef-4f5a-ce6a-dc3900c2cbdd"
      },
      "source": [
        "from pandas import read_csv\n",
        "from statsmodels.tsa.arima_model import ARIMA\n",
        "import numpy\n",
        " \n",
        "# create a differenced series\n",
        "def difference(dataset, interval=1):\n",
        "\tdiff = list()\n",
        "\tfor i in range(interval, len(dataset)):\n",
        "\t\tvalue = dataset[i] - dataset[i - interval]\n",
        "\t\tdiff.append(value)\n",
        "\treturn numpy.array(diff)\n",
        " \n",
        "# invert differenced value\n",
        "def inverse_difference(history, yhat, interval=1):\n",
        "\treturn yhat + history[-interval]\n",
        " \n",
        "# load dataset\n",
        "series = read_csv('/content/drive/My Drive/ML DATA/train_sample3.csv', header=None)\n",
        "# seasonal difference\n",
        "X = series.values\n",
        "days_in_year = 365\n",
        "##differenced = difference(X, days_in_year)\n",
        "# fit model\n",
        "model = ARIMA(differenced, order=(7,0,1))\n",
        "model_fit = model.fit(disp=0)\n",
        "# multi-step out-of-sample forecast\n",
        "start_index = len(differenced)\n",
        "end_index = start_index + 6\n",
        "forecast = model_fit.predict(start=start_index, end=end_index)\n",
        "# invert the differenced forecast to something usable\n",
        "history = [x for x in X]\n",
        "day = 1\n",
        "for yhat in forecast:\n",
        "\tinverted = inverse_difference(history, yhat, days_in_year)\n",
        "\tprint('Day %d: %f' % (day, inverted))\n",
        "\thistory.append(inverted)\n",
        "\tday += 1"
      ],
      "execution_count": 6,
      "outputs": [
        {
          "output_type": "error",
          "ename": "ValueError",
          "evalue": "ignored",
          "traceback": [
            "\u001b[0;31m---------------------------------------------------------------------------\u001b[0m",
            "\u001b[0;31mValueError\u001b[0m                                Traceback (most recent call last)",
            "\u001b[0;32m<ipython-input-6-b0ea374a8f2e>\u001b[0m in \u001b[0;36m<module>\u001b[0;34m()\u001b[0m\n\u001b[1;32m     22\u001b[0m \u001b[0;31m##differenced = difference(X, days_in_year)\u001b[0m\u001b[0;34m\u001b[0m\u001b[0;34m\u001b[0m\u001b[0;34m\u001b[0m\u001b[0m\n\u001b[1;32m     23\u001b[0m \u001b[0;31m# fit model\u001b[0m\u001b[0;34m\u001b[0m\u001b[0;34m\u001b[0m\u001b[0;34m\u001b[0m\u001b[0m\n\u001b[0;32m---> 24\u001b[0;31m \u001b[0mmodel\u001b[0m \u001b[0;34m=\u001b[0m \u001b[0mARIMA\u001b[0m\u001b[0;34m(\u001b[0m\u001b[0mdifferenced\u001b[0m\u001b[0;34m,\u001b[0m \u001b[0morder\u001b[0m\u001b[0;34m=\u001b[0m\u001b[0;34m(\u001b[0m\u001b[0;36m7\u001b[0m\u001b[0;34m,\u001b[0m\u001b[0;36m0\u001b[0m\u001b[0;34m,\u001b[0m\u001b[0;36m1\u001b[0m\u001b[0;34m)\u001b[0m\u001b[0;34m)\u001b[0m\u001b[0;34m\u001b[0m\u001b[0;34m\u001b[0m\u001b[0m\n\u001b[0m\u001b[1;32m     25\u001b[0m \u001b[0mmodel_fit\u001b[0m \u001b[0;34m=\u001b[0m \u001b[0mmodel\u001b[0m\u001b[0;34m.\u001b[0m\u001b[0mfit\u001b[0m\u001b[0;34m(\u001b[0m\u001b[0mdisp\u001b[0m\u001b[0;34m=\u001b[0m\u001b[0;36m0\u001b[0m\u001b[0;34m)\u001b[0m\u001b[0;34m\u001b[0m\u001b[0;34m\u001b[0m\u001b[0m\n\u001b[1;32m     26\u001b[0m \u001b[0;31m# multi-step out-of-sample forecast\u001b[0m\u001b[0;34m\u001b[0m\u001b[0;34m\u001b[0m\u001b[0;34m\u001b[0m\u001b[0m\n",
            "\u001b[0;32m/usr/local/lib/python3.6/dist-packages/statsmodels/tsa/arima_model.py\u001b[0m in \u001b[0;36m__new__\u001b[0;34m(cls, endog, order, exog, dates, freq, missing)\u001b[0m\n\u001b[1;32m    983\u001b[0m         \u001b[0mp\u001b[0m\u001b[0;34m,\u001b[0m \u001b[0md\u001b[0m\u001b[0;34m,\u001b[0m \u001b[0mq\u001b[0m \u001b[0;34m=\u001b[0m \u001b[0morder\u001b[0m\u001b[0;34m\u001b[0m\u001b[0;34m\u001b[0m\u001b[0m\n\u001b[1;32m    984\u001b[0m         \u001b[0;32mif\u001b[0m \u001b[0md\u001b[0m \u001b[0;34m==\u001b[0m \u001b[0;36m0\u001b[0m\u001b[0;34m:\u001b[0m  \u001b[0;31m# then we just use an ARMA model\u001b[0m\u001b[0;34m\u001b[0m\u001b[0;34m\u001b[0m\u001b[0m\n\u001b[0;32m--> 985\u001b[0;31m             \u001b[0;32mreturn\u001b[0m \u001b[0mARMA\u001b[0m\u001b[0;34m(\u001b[0m\u001b[0mendog\u001b[0m\u001b[0;34m,\u001b[0m \u001b[0;34m(\u001b[0m\u001b[0mp\u001b[0m\u001b[0;34m,\u001b[0m \u001b[0mq\u001b[0m\u001b[0;34m)\u001b[0m\u001b[0;34m,\u001b[0m \u001b[0mexog\u001b[0m\u001b[0;34m,\u001b[0m \u001b[0mdates\u001b[0m\u001b[0;34m,\u001b[0m \u001b[0mfreq\u001b[0m\u001b[0;34m,\u001b[0m \u001b[0mmissing\u001b[0m\u001b[0;34m)\u001b[0m\u001b[0;34m\u001b[0m\u001b[0;34m\u001b[0m\u001b[0m\n\u001b[0m\u001b[1;32m    986\u001b[0m         \u001b[0;32melse\u001b[0m\u001b[0;34m:\u001b[0m\u001b[0;34m\u001b[0m\u001b[0;34m\u001b[0m\u001b[0m\n\u001b[1;32m    987\u001b[0m             \u001b[0mmod\u001b[0m \u001b[0;34m=\u001b[0m \u001b[0msuper\u001b[0m\u001b[0;34m(\u001b[0m\u001b[0mARIMA\u001b[0m\u001b[0;34m,\u001b[0m \u001b[0mcls\u001b[0m\u001b[0;34m)\u001b[0m\u001b[0;34m.\u001b[0m\u001b[0m__new__\u001b[0m\u001b[0;34m(\u001b[0m\u001b[0mcls\u001b[0m\u001b[0;34m)\u001b[0m\u001b[0;34m\u001b[0m\u001b[0;34m\u001b[0m\u001b[0m\n",
            "\u001b[0;32m/usr/local/lib/python3.6/dist-packages/statsmodels/tsa/arima_model.py\u001b[0m in \u001b[0;36m__init__\u001b[0;34m(self, endog, order, exog, dates, freq, missing)\u001b[0m\n\u001b[1;32m    426\u001b[0m             \u001b[0;32mraise\u001b[0m \u001b[0mValueError\u001b[0m\u001b[0;34m(\u001b[0m\u001b[0;34m'endog must be 1-d or 2-d with 1 column'\u001b[0m\u001b[0;34m)\u001b[0m\u001b[0;34m\u001b[0m\u001b[0;34m\u001b[0m\u001b[0m\n\u001b[1;32m    427\u001b[0m         \u001b[0mexog\u001b[0m \u001b[0;34m=\u001b[0m \u001b[0mself\u001b[0m\u001b[0;34m.\u001b[0m\u001b[0mdata\u001b[0m\u001b[0;34m.\u001b[0m\u001b[0mexog\u001b[0m  \u001b[0;31m# get it after it's gone through processing\u001b[0m\u001b[0;34m\u001b[0m\u001b[0;34m\u001b[0m\u001b[0m\n\u001b[0;32m--> 428\u001b[0;31m         \u001b[0m_check_estimable\u001b[0m\u001b[0;34m(\u001b[0m\u001b[0mlen\u001b[0m\u001b[0;34m(\u001b[0m\u001b[0mself\u001b[0m\u001b[0;34m.\u001b[0m\u001b[0mendog\u001b[0m\u001b[0;34m)\u001b[0m\u001b[0;34m,\u001b[0m \u001b[0msum\u001b[0m\u001b[0;34m(\u001b[0m\u001b[0morder\u001b[0m\u001b[0;34m)\u001b[0m\u001b[0;34m)\u001b[0m\u001b[0;34m\u001b[0m\u001b[0;34m\u001b[0m\u001b[0m\n\u001b[0m\u001b[1;32m    429\u001b[0m         \u001b[0mself\u001b[0m\u001b[0;34m.\u001b[0m\u001b[0mk_ar\u001b[0m \u001b[0;34m=\u001b[0m \u001b[0mk_ar\u001b[0m \u001b[0;34m=\u001b[0m \u001b[0morder\u001b[0m\u001b[0;34m[\u001b[0m\u001b[0;36m0\u001b[0m\u001b[0;34m]\u001b[0m\u001b[0;34m\u001b[0m\u001b[0;34m\u001b[0m\u001b[0m\n\u001b[1;32m    430\u001b[0m         \u001b[0mself\u001b[0m\u001b[0;34m.\u001b[0m\u001b[0mk_ma\u001b[0m \u001b[0;34m=\u001b[0m \u001b[0mk_ma\u001b[0m \u001b[0;34m=\u001b[0m \u001b[0morder\u001b[0m\u001b[0;34m[\u001b[0m\u001b[0;36m1\u001b[0m\u001b[0;34m]\u001b[0m\u001b[0;34m\u001b[0m\u001b[0;34m\u001b[0m\u001b[0m\n",
            "\u001b[0;32m/usr/local/lib/python3.6/dist-packages/statsmodels/tsa/arima_model.py\u001b[0m in \u001b[0;36m_check_estimable\u001b[0;34m(nobs, n_params)\u001b[0m\n\u001b[1;32m    408\u001b[0m \u001b[0;32mdef\u001b[0m \u001b[0m_check_estimable\u001b[0m\u001b[0;34m(\u001b[0m\u001b[0mnobs\u001b[0m\u001b[0;34m,\u001b[0m \u001b[0mn_params\u001b[0m\u001b[0;34m)\u001b[0m\u001b[0;34m:\u001b[0m\u001b[0;34m\u001b[0m\u001b[0;34m\u001b[0m\u001b[0m\n\u001b[1;32m    409\u001b[0m     \u001b[0;32mif\u001b[0m \u001b[0mnobs\u001b[0m \u001b[0;34m<=\u001b[0m \u001b[0mn_params\u001b[0m\u001b[0;34m:\u001b[0m\u001b[0;34m\u001b[0m\u001b[0;34m\u001b[0m\u001b[0m\n\u001b[0;32m--> 410\u001b[0;31m         \u001b[0;32mraise\u001b[0m \u001b[0mValueError\u001b[0m\u001b[0;34m(\u001b[0m\u001b[0;34m\"Insufficient degrees of freedom to estimate\"\u001b[0m\u001b[0;34m)\u001b[0m\u001b[0;34m\u001b[0m\u001b[0;34m\u001b[0m\u001b[0m\n\u001b[0m\u001b[1;32m    411\u001b[0m \u001b[0;34m\u001b[0m\u001b[0m\n\u001b[1;32m    412\u001b[0m \u001b[0;34m\u001b[0m\u001b[0m\n",
            "\u001b[0;31mValueError\u001b[0m: Insufficient degrees of freedom to estimate"
          ]
        }
      ]
    }
  ]
}