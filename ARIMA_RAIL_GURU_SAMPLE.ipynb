{
  "nbformat": 4,
  "nbformat_minor": 0,
  "metadata": {
    "colab": {
      "name": "ARIMA_RAIL GURU SAMPLE.ipynb",
      "provenance": [],
      "mount_file_id": "1XYN16ddg5ox_bUzlEtZCpFkQWhR2dSvl",
      "authorship_tag": "ABX9TyPxNIXoXeSRsFgClbnRKLFk",
      "include_colab_link": true
    },
    "kernelspec": {
      "name": "python3",
      "display_name": "Python 3"
    }
  },
  "cells": [
    {
      "cell_type": "markdown",
      "metadata": {
        "id": "view-in-github",
        "colab_type": "text"
      },
      "source": [
        "<a href=\"https://colab.research.google.com/github/pskr0/mini/blob/master/ARIMA_RAIL_GURU_SAMPLE.ipynb\" target=\"_parent\"><img src=\"https://colab.research.google.com/assets/colab-badge.svg\" alt=\"Open In Colab\"/></a>"
      ]
    },
    {
      "cell_type": "markdown",
      "metadata": {
        "id": "9_74wj-LIQpl",
        "colab_type": "text"
      },
      "source": [
        "ARIMA_RAIL GURU\n"
      ]
    },
    {
      "cell_type": "code",
      "metadata": {
        "id": "30zpqGvqXiNv",
        "colab_type": "code",
        "colab": {
          "base_uri": "https://localhost:8080/",
          "height": 221
        },
        "outputId": "c560f289-aa22-46d5-ce02-6d611fa070d8"
      },
      "source": [
        "pip install pyramid-arima"
      ],
      "execution_count": 69,
      "outputs": [
        {
          "output_type": "stream",
          "text": [
            "Requirement already satisfied: pyramid-arima in /usr/local/lib/python3.6/dist-packages (0.9.0)\n",
            "Requirement already satisfied: scipy>=0.9 in /usr/local/lib/python3.6/dist-packages (from pyramid-arima) (1.4.1)\n",
            "Requirement already satisfied: numpy>=1.10 in /usr/local/lib/python3.6/dist-packages (from pyramid-arima) (1.17.5)\n",
            "Requirement already satisfied: scikit-learn>=0.17 in /usr/local/lib/python3.6/dist-packages (from pyramid-arima) (0.22.1)\n",
            "Requirement already satisfied: pandas>=0.19 in /usr/local/lib/python3.6/dist-packages (from pyramid-arima) (0.25.3)\n",
            "Requirement already satisfied: Cython>=0.23 in /usr/local/lib/python3.6/dist-packages (from pyramid-arima) (0.29.15)\n",
            "Requirement already satisfied: statsmodels>=0.9.0 in /usr/local/lib/python3.6/dist-packages (from pyramid-arima) (0.10.2)\n",
            "Requirement already satisfied: joblib>=0.11 in /usr/local/lib/python3.6/dist-packages (from scikit-learn>=0.17->pyramid-arima) (0.14.1)\n",
            "Requirement already satisfied: pytz>=2017.2 in /usr/local/lib/python3.6/dist-packages (from pandas>=0.19->pyramid-arima) (2018.9)\n",
            "Requirement already satisfied: python-dateutil>=2.6.1 in /usr/local/lib/python3.6/dist-packages (from pandas>=0.19->pyramid-arima) (2.6.1)\n",
            "Requirement already satisfied: patsy>=0.4.0 in /usr/local/lib/python3.6/dist-packages (from statsmodels>=0.9.0->pyramid-arima) (0.5.1)\n",
            "Requirement already satisfied: six>=1.5 in /usr/local/lib/python3.6/dist-packages (from python-dateutil>=2.6.1->pandas>=0.19->pyramid-arima) (1.12.0)\n"
          ],
          "name": "stdout"
        }
      ]
    },
    {
      "cell_type": "code",
      "metadata": {
        "id": "JY7v4SypIZM2",
        "colab_type": "code",
        "outputId": "5ddcf3ed-d6ce-4987-eace-8c1cf2df34b6",
        "colab": {
          "base_uri": "https://localhost:8080/",
          "height": 534
        }
      },
      "source": [
        "# line plot of time series\n",
        "from pandas import read_csv\n",
        "from matplotlib import pyplot\n",
        "from pyramid import auto_arima\n",
        "# load dataset\n",
        "series = read_csv('/content/drive/My Drive/ML DATA/train_sample.csv', header=0, index_col=0)\n",
        "# display first few rows\n",
        "print(series.head(200))\n",
        "# line plot of dataset\n",
        "series.plot()\n",
        "pyplot.show()"
      ],
      "execution_count": 70,
      "outputs": [
        {
          "output_type": "stream",
          "text": [
            "            Unnamed: 1  Unnamed: 2  Unnamed: 3  w\n",
            "Month                                            \n",
            "1/2/2018           NaN         NaN         NaN  7\n",
            "1/3/2018           NaN         NaN         NaN  8\n",
            "1/4/2018           NaN         NaN         NaN  5\n",
            "1/5/2018           NaN         NaN         NaN  4\n",
            "1/8/2018           NaN         NaN         NaN  2\n",
            "...                ...         ...         ... ..\n",
            "10/10/2018         NaN         NaN         NaN  5\n",
            "10/11/2018         NaN         NaN         NaN  5\n",
            "10/12/2018         NaN         NaN         NaN  4\n",
            "10/15/2018         NaN         NaN         NaN  6\n",
            "10/16/2018         NaN         NaN         NaN  4\n",
            "\n",
            "[200 rows x 4 columns]\n"
          ],
          "name": "stdout"
        },
        {
          "output_type": "display_data",
          "data": {
            "image/png": "[encoded data removed]",
            "text/plain": [
              "<Figure size 432x288 with 1 Axes>"
            ]
          },
          "metadata": {
            "tags": []
          }
        }
      ]
    },
    {
      "cell_type": "code",
      "metadata": {
        "id": "seQh_luHI23s",
        "colab_type": "code",
        "outputId": "3e065e0d-4b1b-48e0-ff34-e7402d709f7d",
        "colab": {
          "base_uri": "https://localhost:8080/",
          "height": 34
        }
      },
      "source": [
        "# split the dataset\n",
        "from pandas import read_csv\n",
        "series = read_csv('/content/drive/My Drive/ML DATA/train_sample3.csv', header=0, index_col=0)\n",
        "split_point = len(series) - 7\n",
        "dataset, validation = series[0:split_point], series[split_point:]\n",
        "print('Dataset %d, Validation %d' % (len(dataset), len(validation)))\n",
        "dataset.to_csv('dataset.csv', index=False)\n",
        "validation.to_csv('validation.csv', index=False)"
      ],
      "execution_count": 71,
      "outputs": [
        {
          "output_type": "stream",
          "text": [
            "Dataset 146, Validation 7\n"
          ],
          "name": "stdout"
        }
      ]
    },
    {
      "cell_type": "code",
      "metadata": {
        "id": "2sB3PROzJIwE",
        "colab_type": "code",
        "colab": {}
      },
      "source": [
        "# create a differenced series\n",
        "def difference(dataset, interval=1):                        \n",
        "\tdiff = list()\n",
        "\tfor i in range(interval, len(dataset)):\n",
        "\t\tvalue = dataset[i] - dataset[i - interval]\n",
        "\t\tdiff.append(value)\n",
        "\treturn numpy.array(diff)"
      ],
      "execution_count": 0,
      "outputs": []
    },
    {
      "cell_type": "code",
      "metadata": {
        "id": "DBoI3gimJRAh",
        "colab_type": "code",
        "colab": {}
      },
      "source": [
        "# invert differenced value\n",
        "def inverse_difference(history, yhat, interval=1):\n",
        "\treturn yhat + history[-interval]"
      ],
      "execution_count": 0,
      "outputs": []
    },
    {
      "cell_type": "code",
      "metadata": {
        "id": "18-GpREiWNxp",
        "colab_type": "code",
        "outputId": "8b7399a4-6690-4953-ed62-1ce12444fb87",
        "colab": {
          "base_uri": "https://localhost:8080/",
          "height": 51
        }
      },
      "source": [
        "#divide the sample data into two parts\n",
        "# Training and Testing Part\n",
        "train=series[:int(0.8*(len(series)))]\n",
        "test=series[int(0.8*(len(series))):]\n",
        "print(train.shape)\n",
        "print(test.shape)"
      ],
      "execution_count": 74,
      "outputs": [
        {
          "output_type": "stream",
          "text": [
            "(122, 1)\n",
            "(31, 1)\n"
          ],
          "name": "stdout"
        }
      ]
    },
    {
      "cell_type": "code",
      "metadata": {
        "id": "J4E0pOhZWOkO",
        "colab_type": "code",
        "outputId": "bbcbb194-ca9e-44b8-b24a-47fabaadd52f",
        "colab": {
          "base_uri": "https://localhost:8080/",
          "height": 1000
        }
      },
      "source": [
        "model = auto_arima(train,trace=True,start_p=0,\n",
        "                   start_q=0,start_P=0,start_Q=0,\n",
        "                   max_p=10,max_q=10,max_P=10,\n",
        "                   max_Q=10,seasonal=True,\n",
        "                   stepwise=False,suppress_warnings=True,\n",
        "                   D=1,max_D=10,error_action='ignore',\n",
        "                   approximation = False)\n",
        "#fitting model\n",
        "model.fit(train)"
      ],
      "execution_count": 75,
      "outputs": [
        {
          "output_type": "stream",
          "text": [
            "Fit ARIMA: order=(0, 1, 0) seasonal_order=(0, 0, 0, 1); AIC=470.963, BIC=476.555, Fit time=0.012 seconds\n",
            "Fit ARIMA: order=(0, 1, 1) seasonal_order=(0, 0, 0, 1); AIC=456.898, BIC=465.285, Fit time=0.096 seconds\n",
            "Fit ARIMA: order=(0, 1, 2) seasonal_order=(0, 0, 0, 1); AIC=436.356, BIC=447.539, Fit time=0.253 seconds\n",
            "Fit ARIMA: order=(0, 1, 3) seasonal_order=(0, 0, 0, 1); AIC=437.015, BIC=450.994, Fit time=0.358 seconds\n",
            "Fit ARIMA: order=(0, 1, 4) seasonal_order=(0, 0, 0, 1); AIC=439.015, BIC=455.789, Fit time=0.511 seconds\n",
            "Fit ARIMA: order=(0, 1, 5) seasonal_order=(0, 0, 0, 1); AIC=439.334, BIC=458.905, Fit time=0.639 seconds\n",
            "Fit ARIMA: order=(0, 1, 6) seasonal_order=(0, 0, 0, 1); AIC=440.154, BIC=462.520, Fit time=0.751 seconds\n",
            "Fit ARIMA: order=(0, 1, 7) seasonal_order=(0, 0, 0, 1); AIC=439.651, BIC=464.813, Fit time=0.934 seconds\n",
            "Fit ARIMA: order=(0, 1, 8) seasonal_order=(0, 0, 0, 1); AIC=437.173, BIC=465.130, Fit time=0.613 seconds\n",
            "Fit ARIMA: order=(0, 1, 9) seasonal_order=(0, 0, 0, 1); AIC=436.425, BIC=467.179, Fit time=1.364 seconds\n",
            "Fit ARIMA: order=(0, 1, 10) seasonal_order=(0, 0, 0, 1); AIC=436.229, BIC=469.779, Fit time=1.467 seconds\n",
            "Fit ARIMA: order=(1, 1, 0) seasonal_order=(0, 0, 0, 1); AIC=467.786, BIC=476.173, Fit time=0.039 seconds\n",
            "Fit ARIMA: order=(1, 1, 1) seasonal_order=(0, 0, 0, 1); AIC=436.728, BIC=447.911, Fit time=0.304 seconds\n",
            "Fit ARIMA: order=(1, 1, 2) seasonal_order=(0, 0, 0, 1); AIC=437.235, BIC=451.214, Fit time=0.368 seconds\n",
            "Fit ARIMA: order=(1, 1, 3) seasonal_order=(0, 0, 0, 1); AIC=439.015, BIC=455.790, Fit time=0.475 seconds\n",
            "Fit ARIMA: order=(1, 1, 4) seasonal_order=(0, 0, 0, 1); AIC=439.096, BIC=458.666, Fit time=0.652 seconds\n",
            "Fit ARIMA: order=(1, 1, 5) seasonal_order=(0, 0, 0, 1); AIC=439.989, BIC=462.355, Fit time=0.840 seconds\n",
            "Fit ARIMA: order=(1, 1, 6) seasonal_order=(0, 0, 0, 1); AIC=441.672, BIC=466.835, Fit time=0.875 seconds\n",
            "Fit ARIMA: order=(1, 1, 7) seasonal_order=(0, 0, 0, 1); AIC=444.066, BIC=472.024, Fit time=1.040 seconds\n",
            "Fit ARIMA: order=(1, 1, 8) seasonal_order=(0, 0, 0, 1); AIC=437.361, BIC=468.115, Fit time=1.261 seconds\n",
            "Fit ARIMA: order=(1, 1, 9) seasonal_order=(0, 0, 0, 1); AIC=437.320, BIC=470.869, Fit time=1.592 seconds\n",
            "Fit ARIMA: order=(2, 1, 0) seasonal_order=(0, 0, 0, 1); AIC=463.117, BIC=474.300, Fit time=0.053 seconds\n",
            "Fit ARIMA: order=(2, 1, 1) seasonal_order=(0, 0, 0, 1); AIC=436.811, BIC=450.790, Fit time=0.398 seconds\n",
            "Fit ARIMA: order=(2, 1, 2) seasonal_order=(0, 0, 0, 1); AIC=438.558, BIC=455.333, Fit time=0.326 seconds\n",
            "Fit ARIMA: order=(2, 1, 3) seasonal_order=(0, 0, 0, 1); AIC=440.545, BIC=460.116, Fit time=0.582 seconds\n",
            "Fit ARIMA: order=(2, 1, 4) seasonal_order=(0, 0, 0, 1); AIC=437.615, BIC=459.982, Fit time=0.614 seconds\n",
            "Fit ARIMA: order=(2, 1, 5) seasonal_order=(0, 0, 0, 1); AIC=439.468, BIC=464.630, Fit time=0.848 seconds\n",
            "Fit ARIMA: order=(2, 1, 6) seasonal_order=(0, 0, 0, 1); AIC=439.626, BIC=467.583, Fit time=0.953 seconds\n",
            "Fit ARIMA: order=(2, 1, 7) seasonal_order=(0, 0, 0, 1); AIC=440.065, BIC=470.819, Fit time=1.176 seconds\n",
            "Fit ARIMA: order=(2, 1, 8) seasonal_order=(0, 0, 0, 1); AIC=434.495, BIC=468.045, Fit time=1.354 seconds\n",
            "Fit ARIMA: order=(3, 1, 0) seasonal_order=(0, 0, 0, 1); AIC=460.285, BIC=474.264, Fit time=0.062 seconds\n",
            "Fit ARIMA: order=(3, 1, 1) seasonal_order=(0, 0, 0, 1); AIC=438.411, BIC=455.186, Fit time=0.454 seconds\n",
            "Fit ARIMA: order=(3, 1, 2) seasonal_order=(0, 0, 0, 1); AIC=439.408, BIC=458.978, Fit time=0.503 seconds\n",
            "Fit ARIMA: order=(3, 1, 3) seasonal_order=(0, 0, 0, 1); AIC=436.322, BIC=458.688, Fit time=0.677 seconds\n",
            "Fit ARIMA: order=(3, 1, 4) seasonal_order=(0, 0, 0, 1); AIC=439.363, BIC=464.525, Fit time=0.608 seconds\n",
            "Fit ARIMA: order=(3, 1, 5) seasonal_order=(0, 0, 0, 1); AIC=441.348, BIC=469.306, Fit time=1.059 seconds\n",
            "Fit ARIMA: order=(3, 1, 6) seasonal_order=(0, 0, 0, 1); AIC=436.972, BIC=467.726, Fit time=0.994 seconds\n",
            "Fit ARIMA: order=(3, 1, 7) seasonal_order=(0, 0, 0, 1); AIC=434.567, BIC=468.116, Fit time=1.218 seconds\n",
            "Fit ARIMA: order=(4, 1, 0) seasonal_order=(0, 0, 0, 1); AIC=458.822, BIC=475.596, Fit time=0.095 seconds\n",
            "Fit ARIMA: order=(4, 1, 1) seasonal_order=(0, 0, 0, 1); AIC=440.100, BIC=459.670, Fit time=0.574 seconds\n",
            "Fit ARIMA: order=(4, 1, 2) seasonal_order=(0, 0, 0, 1); AIC=440.562, BIC=462.928, Fit time=0.622 seconds\n",
            "Fit ARIMA: order=(4, 1, 3) seasonal_order=(0, 0, 0, 1); AIC=439.561, BIC=464.723, Fit time=0.738 seconds\n",
            "Fit ARIMA: order=(4, 1, 4) seasonal_order=(0, 0, 0, 1); AIC=438.786, BIC=466.744, Fit time=1.061 seconds\n",
            "Fit ARIMA: order=(4, 1, 5) seasonal_order=(0, 0, 0, 1); AIC=442.731, BIC=473.484, Fit time=1.238 seconds\n",
            "Fit ARIMA: order=(4, 1, 6) seasonal_order=(0, 0, 0, 1); AIC=435.528, BIC=469.077, Fit time=1.355 seconds\n",
            "Fit ARIMA: order=(5, 1, 0) seasonal_order=(0, 0, 0, 1); AIC=460.467, BIC=480.038, Fit time=0.128 seconds\n",
            "Fit ARIMA: order=(5, 1, 1) seasonal_order=(0, 0, 0, 1); AIC=441.762, BIC=464.128, Fit time=0.755 seconds\n",
            "Fit ARIMA: order=(5, 1, 2) seasonal_order=(0, 0, 0, 1); AIC=442.510, BIC=467.672, Fit time=0.810 seconds\n",
            "Fit ARIMA: order=(5, 1, 3) seasonal_order=(0, 0, 0, 1); AIC=442.096, BIC=470.053, Fit time=1.020 seconds\n",
            "Fit ARIMA: order=(5, 1, 4) seasonal_order=(0, 0, 0, 1); AIC=442.084, BIC=472.838, Fit time=1.123 seconds\n",
            "Fit ARIMA: order=(5, 1, 5) seasonal_order=(0, 0, 0, 1); AIC=440.454, BIC=474.004, Fit time=1.200 seconds\n",
            "Fit ARIMA: order=(6, 1, 0) seasonal_order=(0, 0, 0, 1); AIC=446.407, BIC=468.774, Fit time=0.175 seconds\n",
            "Fit ARIMA: order=(6, 1, 1) seasonal_order=(0, 0, 0, 1); AIC=439.705, BIC=464.867, Fit time=0.394 seconds\n",
            "Fit ARIMA: order=(6, 1, 2) seasonal_order=(0, 0, 0, 1); AIC=440.665, BIC=468.622, Fit time=0.551 seconds\n",
            "Fit ARIMA: order=(6, 1, 3) seasonal_order=(0, 0, 0, 1); AIC=439.348, BIC=470.101, Fit time=1.092 seconds\n",
            "Fit ARIMA: order=(6, 1, 4) seasonal_order=(0, 0, 0, 1); AIC=441.027, BIC=474.576, Fit time=1.168 seconds\n",
            "Fit ARIMA: order=(7, 1, 0) seasonal_order=(0, 0, 0, 1); AIC=443.250, BIC=468.412, Fit time=0.185 seconds\n",
            "Fit ARIMA: order=(7, 1, 1) seasonal_order=(0, 0, 0, 1); AIC=438.326, BIC=466.284, Fit time=0.987 seconds\n",
            "Fit ARIMA: order=(7, 1, 2) seasonal_order=(0, 0, 0, 1); AIC=439.613, BIC=470.366, Fit time=0.992 seconds\n",
            "Fit ARIMA: order=(7, 1, 3) seasonal_order=(0, 0, 0, 1); AIC=441.377, BIC=474.926, Fit time=1.106 seconds\n",
            "Fit ARIMA: order=(8, 1, 0) seasonal_order=(0, 0, 0, 1); AIC=444.669, BIC=472.627, Fit time=0.243 seconds\n",
            "Fit ARIMA: order=(8, 1, 1) seasonal_order=(0, 0, 0, 1); AIC=439.191, BIC=469.945, Fit time=1.195 seconds\n",
            "Fit ARIMA: order=(8, 1, 2) seasonal_order=(0, 0, 0, 1); AIC=440.908, BIC=474.457, Fit time=1.316 seconds\n",
            "Fit ARIMA: order=(9, 1, 0) seasonal_order=(0, 0, 0, 1); AIC=445.881, BIC=476.635, Fit time=0.271 seconds\n",
            "Fit ARIMA: order=(9, 1, 1) seasonal_order=(0, 0, 0, 1); AIC=441.098, BIC=474.647, Fit time=1.277 seconds\n",
            "Fit ARIMA: order=(10, 1, 0) seasonal_order=(0, 0, 0, 1); AIC=447.869, BIC=481.419, Fit time=0.351 seconds\n",
            "Total fit time: 48.402 seconds\n"
          ],
          "name": "stdout"
        },
        {
          "output_type": "execute_result",
          "data": {
            "text/plain": [
              "ARIMA(callback=None, disp=0, maxiter=50, method=None, order=(2, 1, 8),\n",
              "      out_of_sample_size=0, scoring='mse', scoring_args={},\n",
              "      seasonal_order=(0, 0, 0, 1), solver='lbfgs', start_params=None,\n",
              "      suppress_warnings=True, transparams=True, trend='c')"
            ]
          },
          "metadata": {
            "tags": []
          },
          "execution_count": 75
        }
      ]
    },
    {
      "cell_type": "code",
      "metadata": {
        "id": "dMnuHOUVJYdy",
        "colab_type": "code",
        "colab": {
          "base_uri": "https://localhost:8080/",
          "height": 350
        },
        "outputId": "0e2a599f-a0a0-4244-8074-9266ac9a2b97"
      },
      "source": [
        "from pandas import read_csv\n",
        "from statsmodels.tsa.arima_model import ARIMA\n",
        "import numpy\n",
        " \n",
        "# create a differenced series\n",
        "def difference(dataset, interval=1):\n",
        "\tdiff = list()\n",
        "\tfor i in range(interval, len(dataset)):\n",
        "\t\tvalue = dataset[i] - dataset[i - interval]\n",
        "\t\tdiff.append(value)\n",
        "\treturn numpy.array(diff)\n",
        " \n",
        "# load dataset\n",
        "series = read_csv('/content/drive/My Drive/ML DATA/train_sample.csv', header=None)\n",
        "# seasonal difference\n",
        "X = series.values\n",
        "days_in_year = 365\n",
        "differenced = difference(X, days_in_year)\n",
        "# fit model\n",
        "model = ARIMA(differenced, order=(7,0,7))\n",
        "model_fit = model.fit(disp=0)\n",
        "# print summary of fit model\n",
        "print(model_fit.summary())"
      ],
      "execution_count": 76,
      "outputs": [
        {
          "output_type": "error",
          "ename": "TypeError",
          "evalue": "ignored",
          "traceback": [
            "\u001b[0;31m---------------------------------------------------------------------------\u001b[0m",
            "\u001b[0;31mTypeError\u001b[0m                                 Traceback (most recent call last)",
            "\u001b[0;32m<ipython-input-76-a843f15c4d01>\u001b[0m in \u001b[0;36m<module>\u001b[0;34m()\u001b[0m\n\u001b[1;32m     16\u001b[0m \u001b[0mX\u001b[0m \u001b[0;34m=\u001b[0m \u001b[0mseries\u001b[0m\u001b[0;34m.\u001b[0m\u001b[0mvalues\u001b[0m\u001b[0;34m\u001b[0m\u001b[0;34m\u001b[0m\u001b[0m\n\u001b[1;32m     17\u001b[0m \u001b[0mdays_in_year\u001b[0m \u001b[0;34m=\u001b[0m \u001b[0;36m365\u001b[0m\u001b[0;34m\u001b[0m\u001b[0;34m\u001b[0m\u001b[0m\n\u001b[0;32m---> 18\u001b[0;31m \u001b[0mdifferenced\u001b[0m \u001b[0;34m=\u001b[0m \u001b[0mdifference\u001b[0m\u001b[0;34m(\u001b[0m\u001b[0mX\u001b[0m\u001b[0;34m,\u001b[0m \u001b[0mdays_in_year\u001b[0m\u001b[0;34m)\u001b[0m\u001b[0;34m\u001b[0m\u001b[0;34m\u001b[0m\u001b[0m\n\u001b[0m\u001b[1;32m     19\u001b[0m \u001b[0;31m# fit model\u001b[0m\u001b[0;34m\u001b[0m\u001b[0;34m\u001b[0m\u001b[0;34m\u001b[0m\u001b[0m\n\u001b[1;32m     20\u001b[0m \u001b[0mmodel\u001b[0m \u001b[0;34m=\u001b[0m \u001b[0mARIMA\u001b[0m\u001b[0;34m(\u001b[0m\u001b[0mdifferenced\u001b[0m\u001b[0;34m,\u001b[0m \u001b[0morder\u001b[0m\u001b[0;34m=\u001b[0m\u001b[0;34m(\u001b[0m\u001b[0;36m7\u001b[0m\u001b[0;34m,\u001b[0m\u001b[0;36m0\u001b[0m\u001b[0;34m,\u001b[0m\u001b[0;36m7\u001b[0m\u001b[0;34m)\u001b[0m\u001b[0;34m)\u001b[0m\u001b[0;34m\u001b[0m\u001b[0;34m\u001b[0m\u001b[0m\n",
            "\u001b[0;32m<ipython-input-76-a843f15c4d01>\u001b[0m in \u001b[0;36mdifference\u001b[0;34m(dataset, interval)\u001b[0m\n\u001b[1;32m      7\u001b[0m         \u001b[0mdiff\u001b[0m \u001b[0;34m=\u001b[0m \u001b[0mlist\u001b[0m\u001b[0;34m(\u001b[0m\u001b[0;34m)\u001b[0m\u001b[0;34m\u001b[0m\u001b[0;34m\u001b[0m\u001b[0m\n\u001b[1;32m      8\u001b[0m         \u001b[0;32mfor\u001b[0m \u001b[0mi\u001b[0m \u001b[0;32min\u001b[0m \u001b[0mrange\u001b[0m\u001b[0;34m(\u001b[0m\u001b[0minterval\u001b[0m\u001b[0;34m,\u001b[0m \u001b[0mlen\u001b[0m\u001b[0;34m(\u001b[0m\u001b[0mdataset\u001b[0m\u001b[0;34m)\u001b[0m\u001b[0;34m)\u001b[0m\u001b[0;34m:\u001b[0m\u001b[0;34m\u001b[0m\u001b[0;34m\u001b[0m\u001b[0m\n\u001b[0;32m----> 9\u001b[0;31m                 \u001b[0mvalue\u001b[0m \u001b[0;34m=\u001b[0m \u001b[0mdataset\u001b[0m\u001b[0;34m[\u001b[0m\u001b[0mi\u001b[0m\u001b[0;34m]\u001b[0m \u001b[0;34m-\u001b[0m \u001b[0mdataset\u001b[0m\u001b[0;34m[\u001b[0m\u001b[0mi\u001b[0m \u001b[0;34m-\u001b[0m \u001b[0minterval\u001b[0m\u001b[0;34m]\u001b[0m\u001b[0;34m\u001b[0m\u001b[0;34m\u001b[0m\u001b[0m\n\u001b[0m\u001b[1;32m     10\u001b[0m                 \u001b[0mdiff\u001b[0m\u001b[0;34m.\u001b[0m\u001b[0mappend\u001b[0m\u001b[0;34m(\u001b[0m\u001b[0mvalue\u001b[0m\u001b[0;34m)\u001b[0m\u001b[0;34m\u001b[0m\u001b[0;34m\u001b[0m\u001b[0m\n\u001b[1;32m     11\u001b[0m         \u001b[0;32mreturn\u001b[0m \u001b[0mnumpy\u001b[0m\u001b[0;34m.\u001b[0m\u001b[0marray\u001b[0m\u001b[0;34m(\u001b[0m\u001b[0mdiff\u001b[0m\u001b[0;34m)\u001b[0m\u001b[0;34m\u001b[0m\u001b[0;34m\u001b[0m\u001b[0m\n",
            "\u001b[0;31mTypeError\u001b[0m: unsupported operand type(s) for -: 'str' and 'str'"
          ]
        }
      ]
    }
  ]
}